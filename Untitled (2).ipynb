{
 "cells": [
  {
   "cell_type": "code",
   "execution_count": 1,
   "id": "074bd1d5-bcd1-4bfc-9ec1-fce15ead28e5",
   "metadata": {},
   "outputs": [
    {
     "name": "stdin",
     "output_type": "stream",
     "text": [
      "Please enter your passoward ? Shashi@123\n"
     ]
    },
    {
     "name": "stdout",
     "output_type": "stream",
     "text": [
      "Valid Password\n"
     ]
    }
   ],
   "source": [
    "\"\"\"Question 1\n",
    "You are writing code for a company. The requirement of the company is that you create a python\n",
    "function that will check whether the password entered by the user is correct or not. The function should\n",
    "take the password as input and return the string “Valid Password” if the entered password follows the\n",
    "below-given password guidelines else it should return “Invalid Password”.\n",
    "\n",
    "Note: \n",
    "1. The Password should contain at least two uppercase letters and at least two lowercase letters.\n",
    "2. The Password should contain at least a number and three special characters.\n",
    "3. The length of the password should be 10 characters long.\n",
    "#Question 1\"\"\"\n",
    "\n",
    "import string\n",
    "\n",
    "\n",
    "def check_password(password):\n",
    "\n",
    "    if len(password) >= 10:\n",
    "        count_lower_case = 0\n",
    "        count_upper_case = 0\n",
    "        count_special = 0\n",
    "        count_int = 0\n",
    "        for word in password:\n",
    "            if word in string.ascii_lowercase:\n",
    "                count_lower_case += 1\n",
    "                continue\n",
    "            elif word in string.ascii_uppercase:\n",
    "                count_upper_case += 1\n",
    "                continue\n",
    "            elif word in string.punctuation:\n",
    "                count_special += 1\n",
    "                continue\n",
    "            elif word in string.octdigits:\n",
    "                count_int += 1\n",
    "                continue\n",
    "        if count_lower_case >= 2 or count_upper_case >= 2 or count_special >= 3 or count_int >= 1:\n",
    "            return \"Valid Password\"\n",
    "        else:\n",
    "            return \"Invalid Password\"\n",
    "    else:\n",
    "        return \"Invalid Password\"\n",
    "    \n",
    "user_input = input(\"Please enter your passoward ?\")\n",
    "print(check_password(user_input))"
   ]
  },
  {
   "cell_type": "code",
   "execution_count": 3,
   "id": "b0001226-272b-4d0c-bc9a-f667b09b0eb7",
   "metadata": {},
   "outputs": [
    {
     "name": "stdin",
     "output_type": "stream",
     "text": [
      "Please enter your string. Internet\n"
     ]
    },
    {
     "name": "stdout",
     "output_type": "stream",
     "text": [
      "True\n"
     ]
    }
   ],
   "source": [
    "\"\"\"Question 2.\n",
    "Solve the below-given questions using at least one of the following:\n",
    "1. Lambda function\n",
    "2. Filter function\n",
    "3. Map function\n",
    "4. List Comprehension\n",
    "#Question 2.\n",
    "\n",
    "# a. Check if the string starts with a particular letter.\"\"\"\n",
    "user_input = input(\"Please enter your string.\")\n",
    "check_correct = lambda input: True if input[0] == \"I\" else False\n",
    "print(check_correct(user_input))"
   ]
  },
  {
   "cell_type": "code",
   "execution_count": 4,
   "id": "bfdc8be5-99c4-464f-9a82-d098864c5cc7",
   "metadata": {},
   "outputs": [
    {
     "name": "stdin",
     "output_type": "stream",
     "text": [
      "Please enter your string. 23432\n"
     ]
    },
    {
     "name": "stdout",
     "output_type": "stream",
     "text": [
      "True\n"
     ]
    }
   ],
   "source": [
    "# b.  Check if the string is numeric.\n",
    "user_input = input(\"Please enter your string.\")\n",
    "check_correct = lambda input: True if input.isnumeric() else False\n",
    "print(check_correct(user_input))"
   ]
  },
  {
   "cell_type": "code",
   "execution_count": 5,
   "id": "4a6140c9-870e-4b35-8b1e-6f9489eb7895",
   "metadata": {},
   "outputs": [
    {
     "name": "stdout",
     "output_type": "stream",
     "text": [
      "[('orange', 80), ('mango', 99), ('grapes', 1000)]\n"
     ]
    }
   ],
   "source": [
    "# c. Sort a list of tuples having fruit names and their quantity.\n",
    "\n",
    "list_x = [(\"mango\", 99), (\"orange\", 80), (\"grapes\", 1000)]\n",
    "list_x.sort(key=lambda x: x[1])\n",
    "print(list_x)"
   ]
  },
  {
   "cell_type": "code",
   "execution_count": 6,
   "id": "76f4b8ec-776d-4c8c-9b6a-e17482abd429",
   "metadata": {},
   "outputs": [
    {
     "name": "stdout",
     "output_type": "stream",
     "text": [
      "[1, 4, 9, 16, 25, 36, 49, 64, 81, 100, 121, 144, 169, 196, 225, 256, 289, 324, 361, 400, 441, 484, 529, 576, 625]\n"
     ]
    }
   ],
   "source": [
    "# d. Find the squares of numbers from 1 to 10.\n",
    "\n",
    "sq_list = [word**2 for word in range(1, 26)]\n",
    "print(sq_list)"
   ]
  },
  {
   "cell_type": "code",
   "execution_count": 7,
   "id": "66e176c2-b474-4c7f-8c39-55a1383b0241",
   "metadata": {},
   "outputs": [
    {
     "name": "stdout",
     "output_type": "stream",
     "text": [
      "[1, 8, 27, 64, 125, 216, 343, 512, 729, 1000]\n"
     ]
    }
   ],
   "source": [
    "# e. Find the cube root of numbers from 1 to 10.\n",
    "\n",
    "cube_list = [word**3 for word in range(1, 11)]\n",
    "print(cube_list)"
   ]
  },
  {
   "cell_type": "code",
   "execution_count": 8,
   "id": "149ee789-36af-4865-bb15-6ce188e8aacf",
   "metadata": {},
   "outputs": [
    {
     "name": "stdin",
     "output_type": "stream",
     "text": [
      "Please enter your no.? 2\n"
     ]
    },
    {
     "name": "stdout",
     "output_type": "stream",
     "text": [
      "['True']\n"
     ]
    }
   ],
   "source": [
    "# f. Check if a given number is even.\n",
    "\n",
    "user_input = int(input(\"Please enter your no.?\"))\n",
    "new_list =[]\n",
    "new_list.append(user_input)\n",
    "result  = [ \"True\" for num in new_list if num%2 ==0]\n",
    "print(result)"
   ]
  },
  {
   "cell_type": "code",
   "execution_count": 9,
   "id": "848e31fe-8263-4e6c-8176-6799b04c6c6f",
   "metadata": {},
   "outputs": [
    {
     "name": "stdout",
     "output_type": "stream",
     "text": [
      "The list of odd numbers is:  [1, 3, 5, 7, 9]\n"
     ]
    }
   ],
   "source": [
    "# g. Filter odd numbers from the given list.\n",
    "\n",
    "num_list = [1,2,3,4,5,6,7,8,9,10]\n",
    "odd = filter(lambda p : p%2 == 1, num_list)\n",
    "print(\"The list of odd numbers is: \", list(odd))"
   ]
  },
  {
   "cell_type": "code",
   "execution_count": 10,
   "id": "aaa6904d-be29-4894-9e6b-42d31c811c07",
   "metadata": {},
   "outputs": [
    {
     "name": "stdout",
     "output_type": "stream",
     "text": [
      "[-5, -4, -3, -2, -1]\n",
      "[0, 1, 2, 3, 4, 5, 6]\n"
     ]
    }
   ],
   "source": [
    "# h. Sort a list of integers into positive and negative integers lists.\n",
    "test_list =  [1,2,3,4,5,6,-1,-2,-3,-4,-5,0]\n",
    "list_a = [num for num in test_list if num < 0]\n",
    "list_b = [num for num in test_list if num >=0]\n",
    "list_a.sort()\n",
    "list_b.sort()\n",
    "print(list_a)\n",
    "print(list_b)"
   ]
  },
  {
   "cell_type": "code",
   "execution_count": null,
   "id": "807692a2-9504-4b4a-b0ef-446b36f70579",
   "metadata": {},
   "outputs": [],
   "source": []
  }
 ],
 "metadata": {
  "kernelspec": {
   "display_name": "Python 3 (ipykernel)",
   "language": "python",
   "name": "python3"
  },
  "language_info": {
   "codemirror_mode": {
    "name": "ipython",
    "version": 3
   },
   "file_extension": ".py",
   "mimetype": "text/x-python",
   "name": "python",
   "nbconvert_exporter": "python",
   "pygments_lexer": "ipython3",
   "version": "3.10.8"
  }
 },
 "nbformat": 4,
 "nbformat_minor": 5
}
